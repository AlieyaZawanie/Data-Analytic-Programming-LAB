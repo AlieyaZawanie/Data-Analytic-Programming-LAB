{
 "cells": [
  {
   "cell_type": "markdown",
   "id": "8a9b169b",
   "metadata": {},
   "source": [
    "# Assigment 1\n",
    "## Chapter 1 & Chapter 2\n",
    "\n",
    "#### Due Date: 11 Disember 2023\n",
    "\n",
    "Instructions:\n",
    "\n",
    "    1. This is a group assignment. Each groups shall have **AT MOST** 3 students.\n",
    "    2. Only one submission per group.\n",
    "    3. The file to submit is in ipynb format (not py).\n",
    "    4. Please put all members' full name and matric number.\n",
    "    5. The assignment should be submitted by 11.59pm of the due date.\n"
   ]
  },
  {
   "cell_type": "markdown",
   "id": "598bf394",
   "metadata": {},
   "source": [
    "GROUP NAME : UIA\n",
    "\n",
    "1.IKMAL BIN KHAIRULEZUAN A21EC0186\n",
    "\n",
    "2.ALIEYA ZAWANIE BINTI A ZAINI A21EC0156\n",
    "\n",
    "3.UMAR HAZIQ BIN MUHAMAD NORHISHAM A21EC0235\n"
   ]
  },
  {
   "cell_type": "markdown",
   "id": "c91a58b9",
   "metadata": {},
   "source": [
    "## Only use Python Basics for this assignment. \n",
    "## Do not import any other libraries or packages."
   ]
  },
  {
   "cell_type": "markdown",
   "id": "cecd873e",
   "metadata": {},
   "source": [
    "### Question 1\n",
    "\n",
    "Create a function name verbing which receive a string as the parameter. Upon receiving a string:\n",
    "- if its length is at least 3: add 'ing' to its end.\n",
    "- Unless it already ends in 'ing', in which case add 'ly' instead.\n",
    "- If the string length is less than 3, leave it unchanged.\n",
    "- Return the resulting string.\n",
    "\n",
    "Test your code with these strings. You should get the outputs as follow:\n",
    "\n",
    "    String\t          Expected Output\n",
    "    Hail\t             Hailing\n",
    "    Swimming\t     Swimmingly\n",
    "    Do\t                Do\n"
   ]
  },
  {
   "cell_type": "code",
   "execution_count": 7,
   "id": "91a1a8c4",
   "metadata": {},
   "outputs": [],
   "source": [
    "def verbing(v):\n",
    "    if len(v)>3:\n",
    "        if v[-3:]=='ing':\n",
    "            return v + 'ly'\n",
    "        \n",
    "        else:\n",
    "            return v + 'ing'\n",
    "    \n",
    "    else:\n",
    "        return v"
   ]
  },
  {
   "cell_type": "code",
   "execution_count": 9,
   "id": "e660a5c8",
   "metadata": {},
   "outputs": [
    {
     "name": "stdout",
     "output_type": "stream",
     "text": [
      "stringly\n",
      "hailing\n",
      "swimmingly\n",
      "do\n"
     ]
    }
   ],
   "source": [
    "print(verbing('string'))\n",
    "print(verbing('hail'))\n",
    "print(verbing('swimming'))\n",
    "print(verbing('do'))"
   ]
  },
  {
   "cell_type": "markdown",
   "id": "d75acfd1",
   "metadata": {},
   "source": [
    "\n",
    "### Question 2\n",
    "\n",
    "Convert the following code to list comprehension.\n",
    "\t\n",
    "\tcords = [ ]\n",
    "\tfor x in range(4):\n",
    "    \tfor y in range(2):\n",
    "        \tcoordinate = (x, y)\n",
    "        \tcords.append(coordinate)\n",
    "\tprint(cords)"
   ]
  },
  {
   "cell_type": "code",
   "execution_count": 11,
   "id": "e774f711",
   "metadata": {},
   "outputs": [
    {
     "data": {
      "text/plain": [
       "[(0, 0), (0, 1), (1, 0), (1, 1), (2, 0), (2, 1), (3, 0), (3, 1)]"
      ]
     },
     "execution_count": 11,
     "metadata": {},
     "output_type": "execute_result"
    }
   ],
   "source": [
    "cords = [(x, y) for x in range(4)  for y in range(2)]\n",
    "cords"
   ]
  },
  {
   "cell_type": "markdown",
   "id": "0e079624",
   "metadata": {},
   "source": [
    "### Question 3\n",
    "\n",
    "Given an input list [34, 54, 67, 89, 11, 43, 94], use ```pop```, ```insert``` and ```append``` methods to\n",
    "- remove the element at index 4 \n",
    "- add it to the 2nd position and at the end of the list\n",
    "\n",
    "\n",
    "Expected output:\n",
    "\n",
    "    Original list  [34, 54, 67, 89, 11, 43, 94]\n",
    "    List after removing element at index 4  [34, 54, 67, 89, 43, 94]\n",
    "    List after Adding element at index 2  [34, 54, 11, 67, 89, 43, 94]\n",
    "    List after Adding element at last  [34, 54, 11, 67, 89, 43, 94, 11]"
   ]
  },
  {
   "cell_type": "code",
   "execution_count": 27,
   "id": "7e8b84fa",
   "metadata": {},
   "outputs": [
    {
     "name": "stdout",
     "output_type": "stream",
     "text": [
      "List after removing element at index 4: [34, 54, 67, 89, 43, 94]\n",
      "List after Adding element at index 2: [34, 54, 11, 67, 89, 43, 94]\n",
      "List after Adding element at last [34, 54, 11, 67, 89, 43, 94, 11]\n"
     ]
    }
   ],
   "source": [
    "lists=[34, 54, 67, 89, 11, 43, 94]\n",
    "\n",
    "remove=lists.pop(4)\n",
    "print(\"List after removing element at index 4:\",lists)\n",
    "\n",
    "add=lists.insert(2,remove)\n",
    "print(\"List after Adding element at index 2:\",lists)\n",
    "\n",
    "append= lists.append(11)\n",
    "print(\"List after Adding element at last\",lists)\n"
   ]
  },
  {
   "cell_type": "markdown",
   "id": "6d54c8b6",
   "metadata": {},
   "source": [
    "### Question 4\n",
    "\n",
    "Create a function named ``calculate_result`` which receive any values and perform these tasks:\n",
    "\n",
    "(i) If the value given is a valid input (0-100), the function returns these parameters:<br>\n",
    "        ``marks``: the value sent to the function <br>\n",
    "        ``status``: either 'PASS' for marks greater or equal to 40 or 'FAIL' for marks less than 40 <br>\n",
    "        ``grade``: grade given according to the marks <br>\n",
    "        ``point``: point given according to the marks\n",
    "\n",
    "(ii) If the value given is an invalid input which is out of the range, an error message \"The marks is out of range\" should be displayed. \n",
    "\n",
    "Figure 1 shows the grade and point allocated according to the marks.\n",
    "\n",
    "<br>\n",
    "<img src=\"Figure 1.png\", style=\"width: 200px\";>\n",
    "<p style=\"text-align: center;\">Figure 1</p>\n",
    "\n",
    "Your output should look like Figure 2 below. \n",
    "\n",
    "<br>\n",
    "<img src=\"Figure 2a.png\", style=\"width: 550px\";>\n",
    "<p style=\"text-align: center;\">Figure 2</p>"
   ]
  },
  {
   "cell_type": "code",
   "execution_count": 44,
   "id": "7a67aa62",
   "metadata": {},
   "outputs": [
    {
     "name": "stdout",
     "output_type": "stream",
     "text": [
      "Your marks is :1000\n",
      "The marks are out of range\n"
     ]
    }
   ],
   "source": [
    "def calculate_result():\n",
    "    marks= int(input(\"Your marks is :\"))\n",
    "    \n",
    "    if 0 <= marks <= 100:\n",
    "        if marks >= 40:\n",
    "            status = 'PASS'\n",
    "        else :\n",
    "            status='FAIL'\n",
    "        \n",
    "    \n",
    "        if marks >= 90:\n",
    "            grade = 'A+'\n",
    "            point ='4.00'\n",
    "        \n",
    "        elif marks >= 80:\n",
    "            grade = 'A+'\n",
    "            point ='4.00'\n",
    "            \n",
    "        elif marks >= 75:\n",
    "            grade = 'A-'\n",
    "            point ='3.67'\n",
    "            \n",
    "        elif marks >= 70:\n",
    "            grade = 'B+'\n",
    "            point ='3.33'\n",
    "            \n",
    "        elif marks >= 65:\n",
    "            grade = 'B'\n",
    "            point ='3.00'\n",
    "        \n",
    "        elif marks >= 60:\n",
    "            grade = 'B-'\n",
    "            point ='2.67'\n",
    "            \n",
    "        elif marks >= 55:\n",
    "            grade = 'C+'\n",
    "            point ='2.33'\n",
    "            \n",
    "        elif marks >= 50:\n",
    "            grade = 'C'\n",
    "            point ='2.00'\n",
    "            \n",
    "        elif marks >= 45:\n",
    "            grade = 'C-'\n",
    "            point ='1.67'\n",
    "            \n",
    "        elif marks >= 40:\n",
    "            grade = 'D+'\n",
    "            point ='1.33'\n",
    "            \n",
    "        elif marks >= 35:\n",
    "            grade = 'D'\n",
    "            point ='1.00'\n",
    "            \n",
    "        elif marks >= 30:\n",
    "            grade = 'D-'\n",
    "            point ='0.67'\n",
    "            \n",
    "        else :\n",
    "            grade = 'E'\n",
    "            point ='0'\n",
    "            \n",
    "        print(\"Your status is\", status, \"with the grade of\" , grade, \"and point recerived is\",point)\n",
    "\n",
    "    else:\n",
    "        print(\"The marks is out of range\")\n",
    "    \n",
    "    \n",
    "calculate_result()"
   ]
  },
  {
   "cell_type": "markdown",
   "id": "904ee6fc",
   "metadata": {},
   "source": [
    "### Question 5\n",
    "\n",
    "Given a paragraph as follows:\n",
    "\n",
    "On most computer systems, localhost resolves to the IP address 10.100.11.121, which is the most commonly used IPv4 loopback address, and to the IPv6 loopback address. The localhost IP address is 192.168.11.10.\n",
    "\n",
    "Using regular expression, write the python code that can find the network IP address and replace it to 179.01.10.1."
   ]
  },
  {
   "cell_type": "code",
   "execution_count": 56,
   "id": "cd1b9204",
   "metadata": {},
   "outputs": [
    {
     "name": "stdout",
     "output_type": "stream",
     "text": [
      "['10.100.11.12', '192.168.11.1']\n",
      "On most computer systems, localhost resolves to the IP address 179.01.10.11, which is the most commonly used IPv4 loopback address, and to the IPv6 loopback address. The localhost IP address is 179.01.10.10.\n"
     ]
    }
   ],
   "source": [
    "import re \n",
    "paragraphs=\"On most computer systems, localhost resolves to the IP address 10.100.11.121, which is the most commonly used IPv4 loopback address, and to the IPv6 loopback address. The localhost IP address is 192.168.11.10.\"\n",
    "\n",
    "#regexp \n",
    "pattern= r'[0-9.]{1,3}+[0-9.]{1,3}+[0-9.]{1,3}+[0-9.]{1,3}'\n",
    "\n",
    "find=re.findall(pattern,paragraphs)\n",
    "print(find)\n",
    "\n",
    "new_update = paragraphs\n",
    "\n",
    "for match in find:\n",
    "    new_update = new_update.replace(match, '179.01.10.1')\n",
    "\n",
    "print(new_update)"
   ]
  },
  {
   "cell_type": "markdown",
   "id": "d6b20cbe",
   "metadata": {},
   "source": [
    "### Question 6\n",
    "\n",
    "A list of names in the format \"first_name last_name\" is given. Your task is to sort the list of names based on the last name in ascending order. Write a function called `sort_names_by_last_name` that takes in a list of names as input and uses a lambda function along with the ``sorted()`` function to solve the problem.\n",
    "\n",
    "Example:<br>\n",
    "If the input list is <br> `['John Smith', 'Alice Johnson', 'Michael Brown', 'Emily Davis']`, <br> the function should return <br> `['Michael Brown', 'Emily Davis', 'Alice Johnson', 'John Smith']`."
   ]
  },
  {
   "cell_type": "code",
   "execution_count": 63,
   "id": "ff8fad8e",
   "metadata": {},
   "outputs": [
    {
     "name": "stdout",
     "output_type": "stream",
     "text": [
      "['Michael Brown', 'Emily Davis', 'Alice Johnson', 'John Smith']\n"
     ]
    }
   ],
   "source": [
    "def sort_names_by_last_name(names):\n",
    "    sorted_names = sorted(names, key=lambda x: x.split()[-1])\n",
    "    return sorted_names\n",
    "\n",
    "# Example usage:\n",
    "input_list = ['John Smith', 'Alice Johnson', 'Michael Brown', 'Emily Davis']\n",
    "result = sort_names_by_last_name(input_list)\n",
    "print(result)\n"
   ]
  },
  {
   "cell_type": "markdown",
   "id": "d5cf2cd7",
   "metadata": {},
   "source": [
    "### Question 7\n",
    "\n",
    "A list of strings is given. Write a function called `string_lengths_dict` that takes in a list of strings as input and returns the dictionary using dictionary comprehension. The dictionary that will be created should have the keys which are the strings from the list, and the corresponding values are the lengths of the strings. \n",
    "\n",
    "Example:<br>\n",
    "If the input list is <br> `['apple', 'banana', 'cherry', 'date']`,<br> the function should return <br>`{'apple': 5, 'banana': 6, 'cherry': 6, 'date': 4}`."
   ]
  },
  {
   "cell_type": "code",
   "execution_count": 69,
   "id": "8dc535ef",
   "metadata": {},
   "outputs": [
    {
     "name": "stdout",
     "output_type": "stream",
     "text": [
      "{'apple': 5, 'banana': 6, 'cherry': 6, 'date': 4}\n"
     ]
    }
   ],
   "source": [
    "input_fruit =['apple', 'banana', 'cherry', 'date']\n",
    "\n",
    "def string_lengths_dict(input_fruit):\n",
    "    return  {word: len(word) for word in input_fruit}\n",
    "\n",
    "result = string_lengths_dict(input_fruit)\n",
    "print(result)"
   ]
  },
  {
   "cell_type": "markdown",
   "id": "eb0327c1",
   "metadata": {},
   "source": [
    "### Question 8\n",
    "\n",
    "Given a data file (Data_1.txt) that consists of an example daily sale information recorded manually for each of the transaction for a certain period. The information in the file consists of date, item name, amount sold, and price per unit.\n",
    "\n",
    "<br>\n",
    "<img src='Fig1.png' width='300px'>\n",
    "The sample of the data\n",
    "\n",
    "**INSTRUCTIONS:**\n",
    "1. Reads the data file in Python.\n",
    "2. Creates a function in Python called: **calculate_daily_sale** that:\n",
    "   - Able to calculate and return the sale of each item for every day.\n",
    "   - You need to determine the data structure for the returned information, where the returned result should be able to be accessed to show the sale of exact item on a specified day. E.g.: \n",
    "      - ```result[“2020-09-25”]``` *will returns the sale for each item on that day.*\n",
    "      - ```result[“2020-09-25”][“Item_B”]``` *will returns the sale of Item B on that day.*\n",
    "3. Creates a function in Python called: **get_total_sale** that:\n",
    "   - Able to combine the sale of a specific item throughout the period in the data file.\n",
    "   - The function should receive ONE argument:\n",
    "     - The result variable returned form **calculate_daily_sale**\n",
    "   - The function should return the total sale of each item throughout the period."
   ]
  },
  {
   "cell_type": "code",
   "execution_count": null,
   "id": "7ae3db52",
   "metadata": {},
   "outputs": [],
   "source": []
  }
 ],
 "metadata": {
  "kernelspec": {
   "display_name": "Python 3 (ipykernel)",
   "language": "python",
   "name": "python3"
  },
  "language_info": {
   "codemirror_mode": {
    "name": "ipython",
    "version": 3
   },
   "file_extension": ".py",
   "mimetype": "text/x-python",
   "name": "python",
   "nbconvert_exporter": "python",
   "pygments_lexer": "ipython3",
   "version": "3.11.5"
  }
 },
 "nbformat": 4,
 "nbformat_minor": 5
}
